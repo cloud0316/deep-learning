{
 "cells": [
  {
   "cell_type": "code",
   "execution_count": 2,
   "metadata": {
    "collapsed": true
   },
   "outputs": [
    {
     "name": "stdout",
     "output_type": "stream",
     "text": [
      "    scale1(t-24)  scale2(t-24)  scale3(t-24)  scale4(t-24)  scale5(t-24)  \\\n",
      "24     -0.119982     -0.084092      0.102556      0.125017     -0.061387   \n",
      "25      0.250202     -0.024460      0.063310      0.057755      0.014176   \n",
      "26     -0.054643     -0.086076     -0.019669      0.137835      0.012222   \n",
      "27     -0.034379     -0.027207      0.011185      0.123430      0.157122   \n",
      "28      0.011490     -0.013718      0.075456     -0.083604      0.177630   \n",
      "\n",
      "    scale6(t-24)  scale1(t-23)  scale2(t-23)  scale3(t-23)  scale4(t-23)  \\\n",
      "24      0.507347      0.250202     -0.024460      0.063310      0.057755   \n",
      "25      0.463645     -0.054643     -0.086076     -0.019669      0.137835   \n",
      "26      0.488914     -0.034379     -0.027207      0.011185      0.123430   \n",
      "27      0.424582      0.011490     -0.013718      0.075456     -0.083604   \n",
      "28      0.496727      0.041917     -0.007919      0.080034      0.172503   \n",
      "\n",
      "      ...      scale4(t-1)  scale5(t-1)  scale6(t-1)  scale1(t)  scale2(t)  \\\n",
      "24    ...         0.484031     0.231708     0.706081  -0.101030   0.165423   \n",
      "25    ...        -0.303822     0.896757     0.005997   0.267018  -0.242084   \n",
      "26    ...         0.390768     0.135149    -0.065415  -0.073075  -0.088151   \n",
      "27    ...        -0.049790    -0.299428     0.332662  -0.007095  -0.088853   \n",
      "28    ...         0.179217     0.608545     0.406760   0.082963  -0.064714   \n",
      "\n",
      "    scale3(t)  scale4(t)  scale5(t)  scale6(t)  scale7(t)  \n",
      "24   0.049210  -0.303822   0.896757   0.005997       -1.0  \n",
      "25  -0.025650   0.390768   0.135149  -0.065415       -1.0  \n",
      "26  -0.013809  -0.049790  -0.299428   0.332662       -1.0  \n",
      "27   0.005814   0.179217   0.608545   0.406760       -1.0  \n",
      "28   0.027115   0.118303   0.268818   0.158343       -1.0  \n",
      "\n",
      "[5 rows x 151 columns]\n"
     ]
    },
    {
     "name": "stderr",
     "output_type": "stream",
     "text": [
      "C:\\Users\\user\\Anaconda3\\lib\\site-packages\\sklearn\\utils\\validation.py:475: DataConversionWarning: Data with input dtype int64 was converted to float64 by MinMaxScaler.\n",
      "  warnings.warn(msg, DataConversionWarning)\n"
     ]
    }
   ],
   "source": [
    "import pandas as pd\n",
    "import os\n",
    "from pandas import DataFrame\n",
    "from pandas import concat\n",
    "from sklearn import preprocessing\n",
    "import numpy\n",
    "\n",
    "def series_to_supervised(data, n_in=1, n_out=1, dropnan=True):\n",
    "    n_vars = 1 if type(data) is list else data.shape[1]\n",
    "    df = DataFrame(data)\n",
    "    cols, names = list(), list()\n",
    "    for i in range(n_in, 0, -1):\n",
    "        cols.append(df.shift(i))\n",
    "        names += [('scale%d(t-%d)' % (j+1, i)) for j in range(n_vars)]\n",
    "    for i in range(0, n_out):\n",
    "        cols.append(df.shift(-i))\n",
    "        if i == 0:\n",
    "            names += [('scale%d(t)' % (j+1)) for j in range(n_vars)]\n",
    "        else:\n",
    "            names += [('scale%d(t+%d)' % (j+1, i)) for j in range(n_vars)]\n",
    "    agg = concat(cols, axis=1)\n",
    "    agg.columns = names\n",
    "    if dropnan:\n",
    "        agg.dropna(inplace=True)\n",
    "    return agg\n",
    "\n",
    "dataset = pd.read_csv('C:/Users/user/datafiles/input_data/data0102-1.csv', header=0, index_col=0)\n",
    "values = dataset.values\n",
    "Features = values\n",
    "minmax_scale = preprocessing.MinMaxScaler(feature_range=(-1,1))\n",
    "scaleFeature = minmax_scale.fit_transform(Features)\n",
    "reframed = series_to_supervised(scaleFeature, 24, 1)\n",
    "reframed.drop(reframed.columns[[6,13,20,27,34,41,48,55,62,69,76,83,90,97,104,111,118,125,132,139,146,153,160,167]], axis=1, inplace=True)\n",
    "print(reframed.head())"
   ]
  },
  {
   "cell_type": "code",
   "execution_count": 3,
   "metadata": {
    "collapsed": true
   },
   "outputs": [
    {
     "name": "stdout",
     "output_type": "stream",
     "text": [
      "(14321, 1, 150) (14321,) (3522, 1, 150) (3522,)\n"
     ]
    }
   ],
   "source": [
    "msk = numpy.random.rand(len(reframed)) < 0.8\n",
    "train_df = reframed[msk]\n",
    "test_df = reframed[~msk]\n",
    "\n",
    "train_X, train_y = train_df.values[:, 0:-1], train_df.values[:, -1]\n",
    "test_X, test_y = test_df.values[:, 0:-1], test_df.values[:, -1]\n",
    "\n",
    "train_X = train_X.reshape((train_X.shape[0], 1, train_X.shape[1]))\n",
    "test_X = test_X.reshape((test_X.shape[0], 1, test_X.shape[1]))\n",
    "\n",
    "print(train_X.shape, train_y.shape, test_X.shape, test_y.shape)"
   ]
  },
  {
   "cell_type": "code",
   "execution_count": 4,
   "metadata": {},
   "outputs": [
    {
     "name": "stderr",
     "output_type": "stream",
     "text": [
      "Using TensorFlow backend.\n"
     ]
    }
   ],
   "source": [
    "from keras.models import Sequential\n",
    "from keras.layers import Dense, Dropout\n",
    "from keras.layers import SimpleRNN, LSTM"
   ]
  },
  {
   "cell_type": "code",
   "execution_count": 6,
   "metadata": {
    "collapsed": true
   },
   "outputs": [
    {
     "name": "stdout",
     "output_type": "stream",
     "text": [
      "_________________________________________________________________\n",
      "Layer (type)                 Output Shape              Param #   \n",
      "=================================================================\n",
      "simple_rnn_1 (SimpleRNN)     (None, 100)               25100     \n",
      "_________________________________________________________________\n",
      "dropout_2 (Dropout)          (None, 100)               0         \n",
      "_________________________________________________________________\n",
      "dense_4 (Dense)              (None, 512)               51712     \n",
      "_________________________________________________________________\n",
      "dense_5 (Dense)              (None, 256)               131328    \n",
      "_________________________________________________________________\n",
      "dense_6 (Dense)              (None, 1)                 257       \n",
      "=================================================================\n",
      "Total params: 208,397\n",
      "Trainable params: 208,397\n",
      "Non-trainable params: 0\n",
      "_________________________________________________________________\n"
     ]
    }
   ],
   "source": [
    "model = Sequential()\n",
    "model.add(LSTM(100, input_shape=(train_X.shape[1],train_X.shape[2]), activation='relu'))\n",
    "model.add(Dropout(0.1))\n",
    "model.add(Dense(units=512, activation='relu'))\n",
    "model.add(Dense(units=256, activation='relu'))\n",
    "model.add(Dense(units=1))\n",
    "model.summary()\n",
    "\n",
    "model.compile(loss='mae', optimizer='adam', metrics=['accuracy'])\n",
    "train_history = model.fit(train_X , train_y, validation_data=(test_X, test_y), batch_size=25,\n",
    "                          shuffle=True,epochs=10, verbose=2)"
   ]
  },
  {
   "cell_type": "code",
   "execution_count": 11,
   "metadata": {
    "collapsed": true
   },
   "outputs": [
    {
     "name": "stdout",
     "output_type": "stream",
     "text": [
      "3483/3483 [==============================] - 0s 79us/step\n"
     ]
    },
    {
     "data": {
      "text/plain": [
       "0.82314097042779211"
      ]
     },
     "execution_count": 11,
     "metadata": {},
     "output_type": "execute_result"
    }
   ],
   "source": [
    "scores = model.evaluate(test_X, test_y)\n",
    "scores[1]"
   ]
  },
  {
   "cell_type": "code",
   "execution_count": 12,
   "metadata": {},
   "outputs": [],
   "source": [
    "import matplotlib.pyplot as plt\n",
    "def show_train_history(train_history, train, validation):\n",
    "    plt.plot(train_history.history[train])\n",
    "    plt.plot(train_history.history[validation])\n",
    "    plt.title('Train History')\n",
    "    plt.ylabel(train)\n",
    "    plt.xlabel('Epoch')\n",
    "    plt.legend(['train', 'validation'], loc='upper left')\n",
    "    plt.show()"
   ]
  },
  {
   "cell_type": "code",
   "execution_count": 13,
   "metadata": {
    "collapsed": true
   },
   "outputs": [
    {
     "data": {
      "image/png": "[encoded data removed]",
      "text/plain": [
       "<matplotlib.figure.Figure at 0x294f49228d0>"
      ]
     },
     "metadata": {},
     "output_type": "display_data"
    }
   ],
   "source": [
    "show_train_history(train_history, 'acc', 'val_acc')"
   ]
  },
  {
   "cell_type": "code",
   "execution_count": 14,
   "metadata": {
    "collapsed": true
   },
   "outputs": [
    {
     "data": {
      "image/png": "[encoded data removed]",
      "text/plain": [
       "<matplotlib.figure.Figure at 0x295919b7ba8>"
      ]
     },
     "metadata": {},
     "output_type": "display_data"
    }
   ],
   "source": [
    "show_train_history(train_history, 'loss', 'val_loss')"
   ]
  }
 ],
 "metadata": {
  "kernelspec": {
   "display_name": "Python 3",
   "language": "python",
   "name": "python3"
  },
  "language_info": {
   "codemirror_mode": {
    "name": "ipython",
    "version": 3
   },
   "file_extension": ".py",
   "mimetype": "text/x-python",
   "name": "python",
   "nbconvert_exporter": "python",
   "pygments_lexer": "ipython3",
   "version": "3.6.3"
  }
 },
 "nbformat": 4,
 "nbformat_minor": 2
}
