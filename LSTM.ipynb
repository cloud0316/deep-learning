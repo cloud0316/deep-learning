{
 "cells": [
  {
   "cell_type": "code",
   "execution_count": 1,
   "metadata": {},
   "outputs": [
    {
     "name": "stderr",
     "output_type": "stream",
     "text": [
      "Using TensorFlow backend.\n",
      "C:\\Users\\user\\Anaconda3\\lib\\site-packages\\sklearn\\utils\\validation.py:475: DataConversionWarning: Data with input dtype int64 was converted to float64 by MinMaxScaler.\n",
      "  warnings.warn(msg, DataConversionWarning)\n"
     ]
    },
    {
     "name": "stdout",
     "output_type": "stream",
     "text": [
      "Train on 14210 samples, validate on 3633 samples\n",
      "Epoch 1/10\n",
      " - 10s - loss: 0.3221 - acc: 0.7063 - val_loss: 0.2610 - val_acc: 0.7864\n",
      "Epoch 2/10\n",
      " - 7s - loss: 0.2531 - acc: 0.7904 - val_loss: 0.2436 - val_acc: 0.8081\n",
      "Epoch 3/10\n",
      " - 6s - loss: 0.2197 - acc: 0.8224 - val_loss: 0.2471 - val_acc: 0.8010\n",
      "Epoch 4/10\n",
      " - 8s - loss: 0.2014 - acc: 0.8359 - val_loss: 0.2373 - val_acc: 0.8112\n",
      "Epoch 5/10\n",
      " - 6s - loss: 0.1899 - acc: 0.8429 - val_loss: 0.2346 - val_acc: 0.8057\n",
      "Epoch 6/10\n",
      " - 5s - loss: 0.1802 - acc: 0.8479 - val_loss: 0.2351 - val_acc: 0.8112\n",
      "Epoch 7/10\n",
      " - 5s - loss: 0.1746 - acc: 0.8535 - val_loss: 0.2331 - val_acc: 0.8139\n",
      "Epoch 8/10\n",
      " - 5s - loss: 0.1683 - acc: 0.8581 - val_loss: 0.2279 - val_acc: 0.8175\n",
      "Epoch 9/10\n",
      " - 5s - loss: 0.1641 - acc: 0.8587 - val_loss: 0.2327 - val_acc: 0.8170\n",
      "Epoch 10/10\n",
      " - 5s - loss: 0.1608 - acc: 0.8616 - val_loss: 0.2279 - val_acc: 0.8167\n",
      "3633/3633 [==============================] - 0s 67us/step\n"
     ]
    },
    {
     "data": {
      "text/plain": [
       "<matplotlib.figure.Figure at 0x1ff946e95c0>"
      ]
     },
     "metadata": {},
     "output_type": "display_data"
    },
    {
     "data": {
      "text/plain": [
       "<matplotlib.figure.Figure at 0x1fffbb013c8>"
      ]
     },
     "metadata": {},
     "output_type": "display_data"
    }
   ],
   "source": [
    "import pandas as pd\n",
    "import os\n",
    "from pandas import DataFrame\n",
    "from pandas import concat\n",
    "from sklearn import preprocessing\n",
    "import numpy\n",
    "from keras.models import Sequential\n",
    "from keras.layers import Dense, Dropout\n",
    "from keras.layers import SimpleRNN, LSTM\n",
    "import matplotlib.pyplot as plt\n",
    "\n",
    "def show_train_history(train_history, train, validation):\n",
    "    plt.plot(train_history.history[train])\n",
    "    plt.plot(train_history.history[validation])\n",
    "    plt.title('Train History')\n",
    "    plt.ylabel(train)\n",
    "    plt.xlabel('Epoch')\n",
    "    plt.legend(['train', 'validation'], loc='upper left')\n",
    "    plt.show()\n",
    "\n",
    "def series_to_supervised(data, n_in=1, n_out=1, dropnan=True):\n",
    "    n_vars = 1 if type(data) is list else data.shape[1]\n",
    "    df = DataFrame(data)\n",
    "    cols, names = list(), list()\n",
    "    for i in range(n_in, 0, -1):\n",
    "        cols.append(df.shift(i))\n",
    "        names += [('scale%d(t-%d)' % (j+1, i)) for j in range(n_vars)]\n",
    "    for i in range(0, n_out):\n",
    "        cols.append(df.shift(-i))\n",
    "        if i == 0:\n",
    "            names += [('scale%d(t)' % (j+1)) for j in range(n_vars)]\n",
    "        else:\n",
    "            names += [('scale%d(t+%d)' % (j+1, i)) for j in range(n_vars)]\n",
    "    agg = concat(cols, axis=1)\n",
    "    agg.columns = names\n",
    "    if dropnan:\n",
    "        agg.dropna(inplace=True)\n",
    "    return agg\n",
    "\n",
    "dataset = pd.read_csv('C:/Users/user/datafiles/input_data/data0102-1.csv', header=0, index_col=0)\n",
    "values = dataset.values\n",
    "Features = values\n",
    "minmax_scale = preprocessing.MinMaxScaler(feature_range=(-1,1))\n",
    "scaleFeature = minmax_scale.fit_transform(Features)\n",
    "reframed = series_to_supervised(scaleFeature, 24, 1)\n",
    "reframed.drop(reframed.columns[[6,13,20,27,34,41,48,55,62,69,76,83,90,97,104,111,118,125,132,139,146,153,160,167]], axis=1, inplace=True)\n",
    "\n",
    "msk = numpy.random.rand(len(reframed)) < 0.8\n",
    "train_df = reframed[msk]\n",
    "test_df = reframed[~msk]\n",
    "\n",
    "train_X, train_y = train_df.values[:, 0:-1], train_df.values[:, -1]\n",
    "test_X, test_y = test_df.values[:, 0:-1], test_df.values[:, -1]\n",
    "\n",
    "train_X = train_X.reshape((train_X.shape[0], 1, train_X.shape[1]))\n",
    "test_X = test_X.reshape((test_X.shape[0], 1, test_X.shape[1]))\n",
    "\n",
    "model = Sequential()\n",
    "model.add(LSTM(100, input_shape=(train_X.shape[1],train_X.shape[2]), activation='relu'))\n",
    "model.add(Dropout(0.1))\n",
    "model.add(Dense(units=512, activation='relu'))\n",
    "model.add(Dense(units=256, activation='relu'))\n",
    "model.add(Dense(units=1))\n",
    "model.compile(loss='mae', optimizer='adam', metrics=['accuracy'])\n",
    "\n",
    "train_history = model.fit(train_X , train_y, validation_data=(test_X, test_y), batch_size=25,\n",
    "                          shuffle=True,epochs=10, verbose=2)\n",
    "\n",
    "scores = model.evaluate(test_X, test_y)\n",
    "scores[1]\n",
    "\n",
    "show_train_history(train_history, 'acc', 'val_acc')\n",
    "show_train_history(train_history, 'loss', 'val_loss')"
   ]
  }
 ],
 "metadata": {
  "kernelspec": {
   "display_name": "Python 3",
   "language": "python",
   "name": "python3"
  },
  "language_info": {
   "codemirror_mode": {
    "name": "ipython",
    "version": 3
   },
   "file_extension": ".py",
   "mimetype": "text/x-python",
   "name": "python",
   "nbconvert_exporter": "python",
   "pygments_lexer": "ipython3",
   "version": "3.6.3"
  }
 },
 "nbformat": 4,
 "nbformat_minor": 2
}
